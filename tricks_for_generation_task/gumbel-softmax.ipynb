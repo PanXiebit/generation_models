{
 "cells": [
  {
   "cell_type": "markdown",
   "id": "1027f7e6",
   "metadata": {},
   "source": [
    "\n",
    "作者：科技猛兽\n",
    "链接：https://zhuanlan.zhihu.com/p/166632315\n",
    "来源：知乎\n",
    "著作权归作者所有。商业转载请联系作者获得授权，非商业转载请注明出处。"
   ]
  },
  {
   "cell_type": "code",
   "execution_count": 3,
   "id": "8ee40212",
   "metadata": {},
   "outputs": [],
   "source": [
    "import torch\n",
    "import torch.nn as nn\n",
    "import torch.nn.functional as F"
   ]
  },
  {
   "cell_type": "markdown",
   "id": "707cf59c",
   "metadata": {},
   "source": [
    "有这样一个 `logits` 或者是 `distribution`, 我们对它采样得到一个index，我们需要这个过程是可导的。\n",
    "\n",
    "我们知道一个离散随机变量X的分布，比如说p(X=1)=p1=0.2，p(X=2)=p2=0.3，p(X=3)=p2=0.5，然后我们想得到一些服从这个分布的离散的x的值。我们一般的思路当然是，就按照这个概率去采样，采样一些x来用就行了。但是这么做有一个问题：我们采样出来的x只有值，没有生成x的式子。本来x的值和p1,p2,p3是相关的，但是我们使用采样这么一个办法之后，我们得到的x没有办法对p1,p2,p3求导，这在神经网络里面就是一个大问题，没法BP了。"
   ]
  },
  {
   "cell_type": "markdown",
   "id": "c61269a3",
   "metadata": {},
   "source": [
    "那么，能不能给一个以p1,p2,p3为参数的公式，让这个公式返回的结果是x的采样呢？这样的话，我们就可以对这个公式求导，从而得到采样的x对p1,p2,p3的导数了！"
   ]
  },
  {
   "attachments": {
    "image-2.png": {
     "image/png": "[encoded data removed]"
    },
    "image-3.png": {
     "image/png": "[encoded data removed]"
    },
    "image.png": {
     "image/png": "[encoded data removed]"
    }
   },
   "cell_type": "markdown",
   "id": "efd2863f",
   "metadata": {},
   "source": [
    "![image.png](attachment:image.png)\n",
    "\n",
    "![image-2.png](attachment:image-2.png)\n",
    "\n",
    "![image-3.png](attachment:image-3.png)"
   ]
  },
  {
   "cell_type": "markdown",
   "id": "9cc536e1",
   "metadata": {},
   "source": [
    "$\\tau$ 越小，$z_i$ 越接近one-hot vector"
   ]
  },
  {
   "cell_type": "code",
   "execution_count": 9,
   "id": "29aa8411",
   "metadata": {},
   "outputs": [],
   "source": [
    "# g_i, gumbel 噪声 \n",
    "def sample_gumbel(shape, eps=1e-20):\n",
    "    U = torch.rand(shape)\n",
    "    return -torch.log(-torch.log(U + eps) + eps)"
   ]
  },
  {
   "cell_type": "code",
   "execution_count": 10,
   "id": "bda12f35",
   "metadata": {},
   "outputs": [],
   "source": [
    "# z_i, 用softmax 代替 argmax\n",
    "def gumbel_softmax_sample(logits, temperature=1):\n",
    "    y = logits + sample_gumbel(logits.size())\n",
    "    return F.softmax(y / temperature, dim=-1)"
   ]
  },
  {
   "cell_type": "code",
   "execution_count": 44,
   "id": "ac19726e",
   "metadata": {},
   "outputs": [],
   "source": [
    "def gumbel_softmax(logits, temperature=1, hard=False):\n",
    "    \"\"\"\n",
    "    ST-gumple-softmax\n",
    "    input: [*, n_class]\n",
    "    return: flatten --> [*, n_class] an one-hot vector\n",
    "    \"\"\"\n",
    "    y = gumbel_softmax_sample(logits, temperature)\n",
    "    \n",
    "    # gumbel-softmax\n",
    "    if not hard:\n",
    "        return y\n",
    "\n",
    "    # hard\n",
    "    shape = y.size()\n",
    "    _, ind = y.max(dim=-1)\n",
    "    y_hard = torch.zeros_like(y).view(-1, shape[-1])\n",
    "    y_hard.scatter_(1, ind.view(-1, 1), 1)\n",
    "    y_hard = y_hard.view(*shape)\n",
    "    # Set gradients w.r.t. y_hard gradients w.r.t. y\n",
    "    y_hard = (y_hard - y).detach() + y  \n",
    "    return y_hard"
   ]
  },
  {
   "cell_type": "code",
   "execution_count": 51,
   "id": "b32e3667",
   "metadata": {},
   "outputs": [
    {
     "name": "stdout",
     "output_type": "stream",
     "text": [
      "argmax:  torch.return_types.topk(\n",
      "values=tensor([[3.0391, 2.6974, 2.5481, 2.1835, 1.9891],\n",
      "        [2.2437, 1.8880, 1.8251, 1.7873, 1.7017],\n",
      "        [2.3548, 2.0256, 1.7797, 1.6955, 1.6863],\n",
      "        [2.1947, 1.9972, 1.9843, 1.7432, 1.7242],\n",
      "        [1.7659, 1.6835, 1.4928, 1.4561, 1.4218]]),\n",
      "indices=tensor([[35, 36,  7,  1, 47],\n",
      "        [68, 27, 98, 35, 43],\n",
      "        [ 6, 81, 34, 76, 64],\n",
      "        [88, 63, 17, 21,  6],\n",
      "        [74, 33, 69, 84, 99]]))\n"
     ]
    }
   ],
   "source": [
    "bs = 5\n",
    "n_class = 100\n",
    "logits = torch.randn(bs, n_class)\n",
    "\n",
    "# argmax\n",
    "print(\"argmax: \", logits.topk(5,  dim=-1))"
   ]
  },
  {
   "cell_type": "code",
   "execution_count": 52,
   "id": "d7bcab13",
   "metadata": {},
   "outputs": [
    {
     "name": "stdout",
     "output_type": "stream",
     "text": [
      "torch.return_types.topk(\n",
      "values=tensor([[9.9919e-01, 3.2820e-04, 3.1096e-04, 9.0332e-05, 7.2861e-05],\n",
      "        [9.9787e-01, 2.1049e-03, 2.1102e-05, 1.9249e-11, 7.4327e-14],\n",
      "        [9.9810e-01, 8.7187e-04, 6.4518e-04, 3.2919e-04, 4.3565e-05],\n",
      "        [1.0000e+00, 7.4917e-08, 1.9510e-08, 1.4803e-08, 1.8091e-09],\n",
      "        [9.9999e-01, 1.2698e-05, 3.2675e-07, 1.8019e-07, 2.5848e-10]]),\n",
      "indices=tensor([[98, 90,  4, 78, 54],\n",
      "        [82, 68, 42, 32, 41],\n",
      "        [46, 17, 81, 48, 21],\n",
      "        [27,  2, 85,  6, 47],\n",
      "        [69, 20, 84, 90,  0]]))\n"
     ]
    }
   ],
   "source": [
    "### gumbel-softmax\n",
    "y_hard = gumbel_softmax(logits, temperature=0.1, hard=False)\n",
    "print(y_hard.topk(5))"
   ]
  },
  {
   "cell_type": "code",
   "execution_count": null,
   "id": "7cf6441c",
   "metadata": {},
   "outputs": [],
   "source": []
  },
  {
   "cell_type": "code",
   "execution_count": null,
   "id": "a352f5dd",
   "metadata": {},
   "outputs": [],
   "source": []
  }
 ],
 "metadata": {
  "kernelspec": {
   "display_name": "Python [conda env:pt1.7] *",
   "language": "python",
   "name": "conda-env-pt1.7-py"
  },
  "language_info": {
   "codemirror_mode": {
    "name": "ipython",
    "version": 3
   },
   "file_extension": ".py",
   "mimetype": "text/x-python",
   "name": "python",
   "nbconvert_exporter": "python",
   "pygments_lexer": "ipython3",
   "version": "3.8.10"
  }
 },
 "nbformat": 4,
 "nbformat_minor": 5
}

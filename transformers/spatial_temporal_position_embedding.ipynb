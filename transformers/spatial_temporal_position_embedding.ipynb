{
 "cells": [
  {
   "cell_type": "code",
   "execution_count": 1,
   "id": "da420c01",
   "metadata": {},
   "outputs": [],
   "source": [
    "import torch\n",
    "import torch.nn as nn"
   ]
  },
  {
   "cell_type": "code",
   "execution_count": 18,
   "id": "5e3977b0",
   "metadata": {},
   "outputs": [],
   "source": [
    "class AddBroadcastPosEmbed(nn.Module):\n",
    "    def __init__(self, shape, embd_dim, dim=-1):\n",
    "        super().__init__()\n",
    "        assert dim in [-1, 1] # only first or last dim supported\n",
    "        self.shape = shape\n",
    "        self.n_dim = n_dim = len(shape)\n",
    "        self.embd_dim = embd_dim\n",
    "        self.dim = dim\n",
    "\n",
    "        assert embd_dim % n_dim == 0, f\"{embd_dim} % {n_dim} != 0\"\n",
    "        self.emb = nn.ParameterDict({\n",
    "             f'd_{i}': nn.Parameter(torch.randn(shape[i], embd_dim // n_dim) * 0.01\n",
    "                                    if dim == -1 else\n",
    "                                    torch.randn(embd_dim // n_dim, shape[i]) * 0.01)\n",
    "             for i in range(n_dim)\n",
    "        })\n",
    "\n",
    "    def forward(self, x, decode_step=None, decode_idx=None):\n",
    "        embs = []\n",
    "        for i in range(self.n_dim):\n",
    "            e = self.emb[f'd_{i}']\n",
    "            print(\"embedding: \", i, e.shape)\n",
    "            if self.dim == -1:\n",
    "                # (1, 1, ..., 1, self.shape[i], 1, ..., -1)\n",
    "                e = e.view(1, *((1,) * i), self.shape[i], *((1,) * (self.n_dim - i - 1)), -1)\n",
    "                print(\"expand: \", e.shape)\n",
    "                e = e.expand(1, *self.shape, -1)\n",
    "                print(\"expand: \", e.shape)\n",
    "            else:\n",
    "                e = e.view(1, -1, *((1,) * i), self.shape[i], *((1,) * (self.n_dim - i - 1)))\n",
    "                e = e.expand(1, -1, *self.shape)\n",
    "            embs.append(e)\n",
    "\n",
    "        embs = torch.cat(embs, dim=self.dim)\n",
    "        print(embs.shape)\n",
    "        if decode_step is not None:\n",
    "            embs = tensor_slice(embs, [0, *decode_idx, 0],\n",
    "                                [x.shape[0], *(1,) * self.n_dim, x.shape[-1]])\n",
    "\n",
    "        return x + embs"
   ]
  },
  {
   "cell_type": "code",
   "execution_count": 19,
   "id": "444aec5d",
   "metadata": {},
   "outputs": [],
   "source": [
    "b = 2\n",
    "t = 8\n",
    "h = w = 32\n",
    "c = 64*3\n",
    "embed_dim = c\n",
    "x = torch.randn(b, t, h, w, c)\n",
    "shape = (t, h, w)"
   ]
  },
  {
   "cell_type": "code",
   "execution_count": 20,
   "id": "d15ae8de",
   "metadata": {},
   "outputs": [
    {
     "name": "stdout",
     "output_type": "stream",
     "text": [
      "embedding:  0 torch.Size([8, 64])\n",
      "expand:  torch.Size([1, 8, 1, 1, 64])\n",
      "expand:  torch.Size([1, 8, 32, 32, 64])\n",
      "embedding:  1 torch.Size([32, 64])\n",
      "expand:  torch.Size([1, 1, 32, 1, 64])\n",
      "expand:  torch.Size([1, 8, 32, 32, 64])\n",
      "embedding:  2 torch.Size([32, 64])\n",
      "expand:  torch.Size([1, 1, 1, 32, 64])\n",
      "expand:  torch.Size([1, 8, 32, 32, 64])\n",
      "torch.Size([1, 8, 32, 32, 192])\n"
     ]
    },
    {
     "data": {
      "text/plain": [
       "torch.Size([2, 8, 32, 32, 192])"
      ]
     },
     "execution_count": 20,
     "metadata": {},
     "output_type": "execute_result"
    }
   ],
   "source": [
    "m = AddBroadcastPosEmbed(shape, embed_dim)\n",
    "m(x).shape"
   ]
  },
  {
   "cell_type": "code",
   "execution_count": null,
   "id": "524988af",
   "metadata": {},
   "outputs": [],
   "source": []
  }
 ],
 "metadata": {
  "kernelspec": {
   "display_name": "Python [conda env:pt1.7] *",
   "language": "python",
   "name": "conda-env-pt1.7-py"
  },
  "language_info": {
   "codemirror_mode": {
    "name": "ipython",
    "version": 3
   },
   "file_extension": ".py",
   "mimetype": "text/x-python",
   "name": "python",
   "nbconvert_exporter": "python",
   "pygments_lexer": "ipython3",
   "version": "3.8.10"
  }
 },
 "nbformat": 4,
 "nbformat_minor": 5
}
